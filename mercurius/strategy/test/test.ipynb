{
 "cells": [
  {
   "cell_type": "code",
   "execution_count": 2,
   "metadata": {
    "collapsed": true,
    "deletable": true,
    "editable": true
   },
   "outputs": [],
   "source": [
    "import numpy as np"
   ]
  },
  {
   "cell_type": "code",
   "execution_count": 33,
   "metadata": {
    "collapsed": false,
    "deletable": true,
    "editable": true
   },
   "outputs": [
    {
     "name": "stdout",
     "output_type": "stream",
     "text": [
      "2 3; 4 5\n",
      "[[2 3]\n",
      " [4 5]]\n",
      "[[2 4]\n",
      " [3 5]]\n",
      "[[2 3]]\n",
      "('\\nselect first element', array([[2]]))\n",
      "('\\nq/3', array([[0, 1],\n",
      "       [1, 1]]))\n",
      "[[-2 -6]\n",
      " [ 3  5]]\n",
      "<built-in method sum of numpy.ndarray object at 0x041D1F98>\n",
      "<built-in method sum of numpy.ndarray object at 0x041F4B38>\n"
     ]
    },
    {
     "data": {
      "text/plain": [
       "array([-8,  8])"
      ]
     },
     "execution_count": 33,
     "metadata": {},
     "output_type": "execute_result"
    }
   ],
   "source": [
    "s = '[2 3; 4 5]'\n",
    "\n",
    "def mag_func(s):\n",
    "    ''' convert matrix eaiser in python  '''\n",
    "    return np.array(np.matrix(s.strip(\"[]\")))\n",
    "\n",
    "print(s.strip('[]'))\n",
    "q = mag_func(s)\n",
    "print(q)\n",
    "print(q.T)\n",
    "print(q[:1,:]) # test row-select of numpy\n",
    "print('\\nselect first element',q[:1, :1])\n",
    "\n",
    "print('\\nq/3', q / 3)\n",
    "\n",
    "#abs test\n",
    "\n",
    "a = '[-2 -6; 3 5]'\n",
    "b = mag_func(a)\n",
    "print(b)\n",
    "print(b.sum)\n",
    "print((np.absolute(b)).sum)\n",
    "np.sum(b,1) #now it is working"
   ]
  },
  {
   "cell_type": "code",
   "execution_count": 8,
   "metadata": {
    "collapsed": false,
    "deletable": true,
    "editable": true
   },
   "outputs": [
    {
     "data": {
      "text/plain": [
       "matrix([[2, 3],\n",
       "        [4, 5]])"
      ]
     },
     "execution_count": 8,
     "metadata": {},
     "output_type": "execute_result"
    }
   ],
   "source": [
    "np.matrix('2 3; 4 5')"
   ]
  },
  {
   "cell_type": "markdown",
   "metadata": {
    "deletable": true,
    "editable": true
   },
   "source": [
    "# Difference between martrix and array in numpy\n",
    "\n",
    "* matrices are strictly 2-dimensional\n",
    "* arrays are N-dimensional\n",
    "\n",
    "[reference](http://stackoverflow.com/questions/4151128/what-are-the-differences-between-numpy-arrays-and-matrices-which-one-should-i-u)"
   ]
  },
  {
   "cell_type": "markdown",
   "metadata": {
    "collapsed": true,
    "deletable": true,
    "editable": true
   },
   "source": [
    "# Rewrite varargin and varargout in python\n",
    "\n",
    "[reference](https://www.thecodingforums.com/threads/does-python-have-equivalent-to-matlab-varargin-varargout-nargin-nargout.399331/)"
   ]
  },
  {
   "cell_type": "markdown",
   "metadata": {},
   "source": [
    "# Rewrite *size* in python\n",
    "\n",
    "In MATLAB: size(x)\n",
    "\n",
    "In python: x.shape\n",
    "\n",
    "[Reference](http://stackoverflow.com/questions/11125429/size-of-numpy-array)\n",
    "\n",
    "# Convert matlab to Python handbook!\n",
    "\n",
    "More on [numpy for matlab users](http://mathesaurus.sourceforge.net/matlab-numpy.html)\n",
    "\n",
    "[Pdf file](http://mathesaurus.sourceforge.net/matlab-python-xref.pdf)\n",
    "\n",
    "[link3](https://www.numfys.net/howto/matlab-to-python/) This one is updateing!!!\n",
    "\n",
    "[link4](https://cheatsheets.quantecon.org/)"
   ]
  },
  {
   "cell_type": "code",
   "execution_count": 7,
   "metadata": {
    "collapsed": false
   },
   "outputs": [
    {
     "name": "stdout",
     "output_type": "stream",
     "text": [
      "(2, 5)\n",
      "2\n",
      "5\n"
     ]
    }
   ],
   "source": [
    "# rewrite size in python\n",
    "a = np.zeros((2,5))\n",
    "print(a.shape)\n",
    "n, m = a.shape\n",
    "print(n)\n",
    "print(m)"
   ]
  },
  {
   "cell_type": "markdown",
   "metadata": {},
   "source": [
    "# Read .mat file in python\n",
    "\n",
    "> import scipy.io\n",
    ">\n",
    "> mat = scipy.io.loadmat('file.mat')\n",
    "\n",
    "\n",
    "[Reference](http://stackoverflow.com/questions/874461/read-mat-files-in-python)\n",
    "[another](https://docs.scipy.org/doc/scipy-0.18.1/reference/tutorial/io.html)"
   ]
  },
  {
   "cell_type": "markdown",
   "metadata": {},
   "source": [
    "# Use matlab in python\n",
    "\n",
    "[link1](https://www.mathworks.com/help/matlab/matlab_external/call-matlab-functions-from-python.html)\n",
    "[link2](http://stackoverflow.com/questions/13457751/calling-matlab-m-files-and-functions-in-python-script)\n"
   ]
  },
  {
   "cell_type": "code",
   "execution_count": 8,
   "metadata": {
    "collapsed": false
   },
   "outputs": [
    {
     "data": {
      "text/plain": [
       "array([[ 1.,  1.,  1.],\n",
       "       [ 1.,  1.,  1.]])"
      ]
     },
     "execution_count": 8,
     "metadata": {},
     "output_type": "execute_result"
    }
   ],
   "source": [
    "np.ones((2,3))"
   ]
  },
  {
   "cell_type": "markdown",
   "metadata": {},
   "source": [
    "# *fprintf* in python\n",
    "\n",
    "[source](http://polo.engr.colostate.edu/drillbits/lessons/91/)"
   ]
  },
  {
   "cell_type": "markdown",
   "metadata": {},
   "source": [
    "# What does @ do in matlab\n",
    "\n",
    "@ allows user to pass function like a variable\n",
    "\n",
    "[source](http://stackoverflow.com/questions/2100595/what-is-the-operator-in-matlab)"
   ]
  },
  {
   "cell_type": "markdown",
   "metadata": {},
   "source": [
    "**exmaple** convert matlab to python\n",
    "\n",
    "[link](http://polo.engr.colostate.edu/drillbits/lessons/91/)"
   ]
  },
  {
   "cell_type": "markdown",
   "metadata": {},
   "source": [
    "using `if not` or `!=` or `==` in python, [link](http://stackoverflow.com/questions/31026754/python-if-not-vs-if)"
   ]
  },
  {
   "cell_type": "markdown",
   "metadata": {},
   "source": [
    "# How to write *waitbar* in python?\n",
    "\n",
    "no solution yet\n",
    "\n",
    "possible solution:\n",
    "\n",
    "[link1](http://stackoverflow.com/questions/22159256/python-is-there-something-like-waitbar-of-matlab)\n"
   ]
  },
  {
   "cell_type": "code",
   "execution_count": 10,
   "metadata": {
    "collapsed": false
   },
   "outputs": [
    {
     "data": {
      "text/plain": [
       "array([[ 0.2],\n",
       "       [ 0.2],\n",
       "       [ 0.2],\n",
       "       [ 0.2],\n",
       "       [ 0.2]])"
      ]
     },
     "execution_count": 10,
     "metadata": {},
     "output_type": "execute_result"
    }
   ],
   "source": [
    "np.ones((5, 1), float)/5"
   ]
  },
  {
   "cell_type": "code",
   "execution_count": 11,
   "metadata": {
    "collapsed": false
   },
   "outputs": [
    {
     "name": "stdout",
     "output_type": "stream",
     "text": [
      "(1, 'This is tc 10.000000')\n"
     ]
    }
   ],
   "source": [
    "tc = 10.0\n",
    "fid = 1\n",
    "print(fid, \"This is tc %f\" % tc)"
   ]
  },
  {
   "cell_type": "markdown",
   "metadata": {},
   "source": [
    "# *for* from matlab to python\n",
    "\n",
    "[reference](http://stackoverflow.com/questions/8981967/are-the-loops-in-python-similar-to-matlab)\n",
    "\n",
    "also can use `arange` in numpy, see the [manual](https://docs.scipy.org/doc/numpy/reference/generated/numpy.arange.html)\n",
    "and [stackoverflow](http://stackoverflow.com/questions/477486/how-to-use-a-decimal-range-step-value)\n",
    "\n",
    "The colon in *for* loop is \n",
    "\n",
    "> start:step:end\n",
    "\n",
    "[source](http://www.facstaff.bucknell.edu/maneval/help211/vcreate.html)"
   ]
  },
  {
   "cell_type": "code",
   "execution_count": 16,
   "metadata": {
    "collapsed": false
   },
   "outputs": [
    {
     "data": {
      "text/plain": [
       "array([3, 5])"
      ]
     },
     "execution_count": 16,
     "metadata": {},
     "output_type": "execute_result"
    }
   ],
   "source": [
    "np.arange(3,7,2)"
   ]
  },
  {
   "cell_type": "markdown",
   "metadata": {},
   "source": [
    "# Select rows in python\n",
    "\n",
    "[reference](http://stackoverflow.com/questions/7543250/how-to-select-elements-row-wise-from-a-numpy-array)\n",
    "\n",
    "Actually work with this one:\n",
    "[link](http://stackoverflow.com/questions/10625096/extracting-first-n-columns-of-a-numpy-matrix)\n",
    "\n",
    "**Indexing manual** [link](https://docs.scipy.org/doc/numpy/user/basics.indexing.html)"
   ]
  },
  {
   "cell_type": "markdown",
   "metadata": {},
   "source": [
    "# *sum* from matlab to python\n",
    "[reference](http://stackoverflow.com/questions/20007298/numpy-and-matlab-difference-in-sum)\n",
    "[link2](http://stackoverflow.com/questions/24723902/difference-in-sum-of-an-array-using-python-and-matlab-code)\n",
    "[link3](http://stackoverflow.com/questions/22864215/python-array-sum-vs-matlab)"
   ]
  },
  {
   "cell_type": "code",
   "execution_count": 4,
   "metadata": {
    "collapsed": false
   },
   "outputs": [
    {
     "data": {
      "text/plain": [
       "array([1, 2, 0, 1])"
      ]
     },
     "execution_count": 4,
     "metadata": {},
     "output_type": "execute_result"
    }
   ],
   "source": [
    "# When using np.arange, need to notice right open interval\n",
    "np.mod(np.arange(1,5), 3)"
   ]
  },
  {
   "cell_type": "markdown",
   "metadata": {
    "collapsed": true
   },
   "source": [
    "# How to convert *cell2mat* & *num2cell* from matlab to python\n",
    "\n",
    "cell2mat [link1](http://stackoverflow.com/questions/29357914/matlab-cell2mat-function-in-python-numpy)\n",
    "\n",
    "num2cell [link1](http://stackoverflow.com/questions/40266943/what-is-the-python-numpy-equivalent-of-num2cell)"
   ]
  },
  {
   "cell_type": "markdown",
   "metadata": {},
   "source": [
    "# Numpy for matlab users\n",
    "\n",
    "[link](https://docs.scipy.org/doc/numpy-dev/user/numpy-for-matlab-users.html)"
   ]
  },
  {
   "cell_type": "code",
   "execution_count": 7,
   "metadata": {
    "collapsed": false
   },
   "outputs": [
    {
     "name": "stdout",
     "output_type": "stream",
     "text": [
      "(10, 1)\n",
      "[ 1.  1.  1.  1.  1.  1.  1.  1.  1.  1.]\n"
     ]
    }
   ],
   "source": [
    "import numpy as np\n",
    "\n",
    "test = np.ones((10,1))\n",
    "print(test.shape)\n",
    "print(test[:,0]) \n",
    "\n",
    "# count start from 0"
   ]
  },
  {
   "cell_type": "markdown",
   "metadata": {},
   "source": [
    "# element wise multiplication in python\n",
    "\n",
    "[source](http://stackoverflow.com/questions/9948042/numpy-how-to-elementwise-multiply-two-vectors-shape-n-1-and-n)"
   ]
  },
  {
   "cell_type": "code",
   "execution_count": 1,
   "metadata": {
    "collapsed": false
   },
   "outputs": [
    {
     "ename": "NameError",
     "evalue": "name 'a' is not defined",
     "output_type": "error",
     "traceback": [
      "\u001b[1;31m---------------------------------------------------------------------------\u001b[0m",
      "\u001b[1;31mNameError\u001b[0m                                 Traceback (most recent call last)",
      "\u001b[1;32m<ipython-input-1-765a0f786b42>\u001b[0m in \u001b[0;36m<module>\u001b[1;34m()\u001b[0m\n\u001b[1;32m----> 1\u001b[1;33m \u001b[0ma\u001b[0m \u001b[1;33m*\u001b[0m \u001b[0mb\u001b[0m\u001b[1;33m[\u001b[0m\u001b[1;33m:\u001b[0m\u001b[1;33m,\u001b[0m \u001b[0mNone\u001b[0m\u001b[1;33m]\u001b[0m \u001b[1;31m# this works\u001b[0m\u001b[1;33m\u001b[0m\u001b[0m\n\u001b[0m",
      "\u001b[1;31mNameError\u001b[0m: name 'a' is not defined"
     ]
    }
   ],
   "source": [
    "a * b[:, None] # this works"
   ]
  },
  {
   "cell_type": "markdown",
   "metadata": {},
   "source": [
    "# What does `~` mean inside bracket in matlab\n",
    "\n",
    "possible usage:\n",
    "> [~, N] = size(data)\n",
    "\n",
    "see the [answer](https://www.mathworks.com/matlabcentral/answers/72537-what-does-a-tilde-inside-square-brackets-mean)\n",
    "\n",
    "in some cases, tilde can also mean `not`\n",
    "[link1](http://stackoverflow.com/questions/30599101/translating-mathematical-functions-from-matlab-to-python)\n",
    "[link2](https://www.scivision.co/caution-with-tilde-python-vs-matlab/)\n",
    "[link3](http://stackoverflow.com/questions/8305199/the-tilde-operator-in-python)"
   ]
  },
  {
   "cell_type": "code",
   "execution_count": 17,
   "metadata": {
    "collapsed": false
   },
   "outputs": [
    {
     "name": "stdout",
     "output_type": "stream",
     "text": [
      "1\n",
      "1\n",
      "-1\n",
      "1\n",
      "-1\n",
      "-1\n",
      "1\n",
      "-1\n",
      "1\n",
      "-1\n"
     ]
    }
   ],
   "source": [
    "# test generate random numbers in [-1,1]\n",
    "import numpy as np\n",
    "\n",
    "for i in xrange(10):\n",
    "    a = np.random.randint(-1,1)\n",
    "    if a == 0:\n",
    "        a = 1\n",
    "\n",
    "    print a"
   ]
  },
  {
   "cell_type": "markdown",
   "metadata": {},
   "source": [
    "# How to conver `prod` from matlab to numpy\n",
    "\n",
    "[source](http://stackoverflow.com/questions/20158359/python-equivalent-of-matlab-command-prod)"
   ]
  },
  {
   "cell_type": "markdown",
   "metadata": {},
   "source": [
    "> TypeError: 'float' object cannot be interpreted as an integer\n",
    "\n",
    "how to solve this? [link1](http://stackoverflow.com/questions/19824721/i-keep-getting-this-error-for-my-simple-python-program-typeerror-float-obje)"
   ]
  },
  {
   "cell_type": "code",
   "execution_count": 1,
   "metadata": {
    "collapsed": false
   },
   "outputs": [
    {
     "name": "stdout",
     "output_type": "stream",
     "text": [
      "0\n",
      "1\n",
      "2\n",
      "3\n",
      "4\n",
      "5\n",
      "6\n",
      "7\n",
      "8\n",
      "9\n"
     ]
    }
   ],
   "source": [
    "for i in range(10):\n",
    "    print i"
   ]
  },
  {
   "cell_type": "code",
   "execution_count": 4,
   "metadata": {
    "collapsed": false
   },
   "outputs": [
    {
     "name": "stdout",
     "output_type": "stream",
     "text": [
      "1\n",
      "2\n",
      "3\n",
      "4\n",
      "5\n",
      "6\n",
      "7\n",
      "8\n",
      "9\n",
      "10\n",
      "11\n",
      "12\n",
      "13\n",
      "14\n",
      "15\n",
      "16\n",
      "17\n",
      "18\n",
      "19\n",
      "20\n",
      "21\n",
      "22\n",
      "23\n",
      "24\n",
      "25\n",
      "26\n",
      "27\n",
      "28\n",
      "29\n"
     ]
    }
   ],
   "source": [
    "import numpy as np\n",
    "\n",
    "for m in np.arange(1,30).reshape(-1):\n",
    "    print m"
   ]
  },
  {
   "cell_type": "code",
   "execution_count": 5,
   "metadata": {
    "collapsed": false
   },
   "outputs": [
    {
     "data": {
      "text/plain": [
       "array([ 3.,  8.])"
      ]
     },
     "execution_count": 5,
     "metadata": {},
     "output_type": "execute_result"
    }
   ],
   "source": [
    "np.prod([[1.,2.],[3.,4.]], axis=0)"
   ]
  },
  {
   "cell_type": "code",
   "execution_count": 24,
   "metadata": {
    "collapsed": false
   },
   "outputs": [
    {
     "name": "stdout",
     "output_type": "stream",
     "text": [
      "0.964526786364\n"
     ]
    }
   ],
   "source": [
    "temp = np.random.uniform(0,1)\n",
    "print(temp)"
   ]
  },
  {
   "cell_type": "markdown",
   "metadata": {
    "collapsed": true
   },
   "source": [
    "# mldivide(\\) in numpy\n",
    "\n",
    "This is a tricky operator IMHO\n",
    "\n",
    "[link1](http://stackoverflow.com/questions/33559946/numpy-vs-mldivide-matlab-operator)"
   ]
  },
  {
   "cell_type": "code",
   "execution_count": 1,
   "metadata": {
    "collapsed": false
   },
   "outputs": [
    {
     "name": "stdout",
     "output_type": "stream",
     "text": [
      "(507, 30)\n"
     ]
    }
   ],
   "source": [
    "# load data from 'djia.mat'\n",
    "import numpy as np\n",
    "import scipy.io as sio\n",
    "djia = sio.loadmat('djia.mat') # load a test input\n",
    "print(djia['data'].shape)\n",
    "#ucrp_run(1, djia['data'], 0.5 )"
   ]
  },
  {
   "cell_type": "code",
   "execution_count": 4,
   "metadata": {
    "collapsed": false
   },
   "outputs": [
    {
     "name": "stdout",
     "output_type": "stream",
     "text": [
      "[[ 1.03242582  1.00522903  0.97853382 ...,  0.97208539  1.07876543\n",
      "   1.03823673]\n",
      " [ 0.98162963  0.98439451  1.01283113 ...,  1.00458494  0.96131838\n",
      "   0.97349285]\n",
      " [ 1.01509206  0.96300993  0.99877401 ...,  0.99543598  0.96738095\n",
      "   0.96385542]\n",
      " ..., \n",
      " [ 1.01333333  0.99034749  1.00615655 ...,  0.98601007  1.00474407\n",
      "   1.03037767]\n",
      " [ 1.00307018  0.99961014  0.97972028 ...,  0.99602724  0.99279324\n",
      "   1.00743692]\n",
      " [ 1.01268037  1.00273011  1.00571021 ...,  1.00911681  1.00075094\n",
      "   1.00790931]]\n",
      "(507, 30)\n"
     ]
    }
   ],
   "source": [
    "import pickle\n",
    "import numpy as np\n",
    "\n",
    "b = djia['data']\n",
    "f = open('pickled_djia', 'w')\n",
    "b.dump(f)\n",
    "f.close()\n",
    "\n",
    "f2 = open('pickled_djia', 'r')\n",
    "s = pickle.load(f2)\n",
    "f2.close()\n",
    "\n",
    "print(s)\n",
    "print(s.shape)\n"
   ]
  },
  {
   "cell_type": "code",
   "execution_count": 6,
   "metadata": {
    "collapsed": false
   },
   "outputs": [
    {
     "data": {
      "text/plain": [
       "(30,)"
      ]
     },
     "execution_count": 6,
     "metadata": {},
     "output_type": "execute_result"
    }
   ],
   "source": [
    "np.zeros(30).shape"
   ]
  },
  {
   "cell_type": "code",
   "execution_count": 8,
   "metadata": {
    "collapsed": false
   },
   "outputs": [
    {
     "name": "stdout",
     "output_type": "stream",
     "text": [
      "0\n",
      "1\n",
      "2\n",
      "3\n",
      "4\n",
      "5\n",
      "6\n",
      "7\n",
      "8\n",
      "9\n",
      "10\n",
      "11\n",
      "12\n",
      "13\n",
      "14\n",
      "15\n",
      "16\n",
      "17\n",
      "18\n",
      "19\n",
      "20\n",
      "21\n",
      "22\n",
      "23\n",
      "24\n",
      "25\n",
      "26\n",
      "27\n",
      "28\n",
      "29\n"
     ]
    }
   ],
   "source": [
    "for i in range(30):\n",
    "    print i"
   ]
  },
  {
   "cell_type": "code",
   "execution_count": 16,
   "metadata": {
    "collapsed": false
   },
   "outputs": [
    {
     "name": "stdout",
     "output_type": "stream",
     "text": [
      "('a,b', [])\n",
      "('dot', array([[-1, -3],\n",
      "       [-3, -1]]))\n"
     ]
    }
   ],
   "source": [
    "a = [[1, 3], [3, 1]]\n",
    "b = -1\n",
    "print('a,b',a*b)\n",
    "print('dot',np.dot(a,b)) #ValueError if shape does not match"
   ]
  },
  {
   "cell_type": "code",
   "execution_count": 3,
   "metadata": {
    "collapsed": false
   },
   "outputs": [
    {
     "data": {
      "text/plain": [
       "matrix([[5, 2],\n",
       "        [3, 4]])"
      ]
     },
     "execution_count": 3,
     "metadata": {},
     "output_type": "execute_result"
    }
   ],
   "source": [
    "import numpy as np\n",
    "x = np.array([[1,2],[3,4]])\n",
    "m = np.mat(x) #np.mat also called np.asmatrix\n",
    "x[0,0] = 5\n",
    "m"
   ]
  },
  {
   "cell_type": "code",
   "execution_count": 1,
   "metadata": {
    "collapsed": false
   },
   "outputs": [
    {
     "data": {
      "text/plain": [
       "(3, 1)"
      ]
     },
     "execution_count": 1,
     "metadata": {},
     "output_type": "execute_result"
    }
   ],
   "source": [
    "import numpy as np\n",
    "\n",
    "x = np.array([[0], [1], [2]])\n",
    "x.shape"
   ]
  },
  {
   "cell_type": "code",
   "execution_count": 2,
   "metadata": {
    "collapsed": false
   },
   "outputs": [
    {
     "data": {
      "text/plain": [
       "array([0, 1, 2])"
      ]
     },
     "execution_count": 2,
     "metadata": {},
     "output_type": "execute_result"
    }
   ],
   "source": [
    "np.squeeze(x)"
   ]
  },
  {
   "cell_type": "code",
   "execution_count": 5,
   "metadata": {
    "collapsed": false
   },
   "outputs": [
    {
     "name": "stdout",
     "output_type": "stream",
     "text": [
      "[ 0.  0.  0.  0.  0.  0.]\n"
     ]
    },
    {
     "data": {
      "text/plain": [
       "(6,)"
      ]
     },
     "execution_count": 5,
     "metadata": {},
     "output_type": "execute_result"
    }
   ],
   "source": [
    "used = np.zeros(6)\n",
    "print(used)\n",
    "np.squeeze(used).shape"
   ]
  },
  {
   "cell_type": "code",
   "execution_count": 8,
   "metadata": {
    "collapsed": false
   },
   "outputs": [
    {
     "name": "stdout",
     "output_type": "stream",
     "text": [
      "[ 4.00e+00  1.00e+00]\n",
      "[ 1.00e+00  2.00e+00]\n",
      "\n",
      "     pcost       dcost       gap    pres   dres\n",
      " 0:  1.8889e+00  7.7778e-01  1e+00  2e-16  2e+00\n",
      " 1:  1.8769e+00  1.8320e+00  4e-02  2e-16  6e-02\n",
      " 2:  1.8750e+00  1.8739e+00  1e-03  2e-16  5e-04\n",
      " 3:  1.8750e+00  1.8750e+00  1e-05  1e-16  5e-06\n",
      " 4:  1.8750e+00  1.8750e+00  1e-07  1e-16  5e-08\n",
      "Optimal solution found.\n",
      "[ 2.50e-01]\n",
      "[ 7.50e-01]\n",
      "\n"
     ]
    }
   ],
   "source": [
    "# solve a quatratic program using cvxopt\n",
    "\n",
    "from cvxopt import matrix, solvers\n",
    "\n",
    "#minimizing 2*x1^2 + x2^2 + x1 * x2 + x1 + x2 subject to x1>= 0 x2>= 0 and x1+x2 = 1\n",
    "\n",
    "# By default, a 1/2 is multiplied to the quadratic form (the first matrix equation)\n",
    "# see the original example: http://cvxopt.org/examples/tutorial/qp.html\n",
    "\n",
    "Q = 2 * matrix([[2, .5], [.5, 1]])\n",
    "print Q\n",
    "p = matrix([1.0, 1.0])\n",
    "G = matrix([[-1.0, 0.0] ,[0.0, -1.0]])\n",
    "h = matrix([0.0, 0.0])\n",
    "A = matrix([1.0, 1.0], (1,2))\n",
    "b = matrix(1.0)\n",
    "sol=solvers.qp(Q,p,G,h,A,b)\n",
    "print(sol['x'])\n",
    "\n",
    "#another great tutorial on qp: https://courses.csail.mit.edu/6.867/wiki/images/a/a7/Qp-cvxopt.pdf\n"
   ]
  },
  {
   "cell_type": "code",
   "execution_count": 10,
   "metadata": {
    "collapsed": false
   },
   "outputs": [
    {
     "name": "stdout",
     "output_type": "stream",
     "text": [
      "0.25\n",
      "0.75\n"
     ]
    }
   ],
   "source": [
    "print(2.50e-01)\n",
    "print(7.50e-01)"
   ]
  },
  {
   "cell_type": "code",
   "execution_count": 24,
   "metadata": {
    "collapsed": false
   },
   "outputs": [
    {
     "name": "stdout",
     "output_type": "stream",
     "text": [
      "[[ 0.33  0.33  0.33]\n",
      " [ 0.33  0.33  0.33]]\n",
      "(3,)\n",
      "\n",
      "(2, 3)\n",
      "\n",
      "--------------------\n",
      "(2, 3)\n",
      "       0      1      2\n",
      "0  0.495  0.495  0.165\n",
      "1  0.495  0.495  0.165\n",
      "0    1.155\n",
      "1    1.155\n",
      "dtype: float64\n",
      "          0         1         2\n",
      "0  0.428571  0.428571  0.142857\n",
      "1  0.428571  0.428571  0.142857\n",
      "\n",
      "-----------\n",
      "0   NaN\n",
      "1   NaN\n",
      "2   NaN\n",
      "Name: 0, dtype: float64\n",
      "(2, 3)\n",
      "          0         1         2\n",
      "0  0.333333  0.333333  0.333333\n",
      "1  0.428571  0.428571  0.142857\n"
     ]
    }
   ],
   "source": [
    "import numpy as np\n",
    "import pandas as pd\n",
    "\n",
    "b = np.array([[0.33, 0.33, 0.33] ,[0.33, 0.33, 0.33]], dtype=float)\n",
    "print b\n",
    "\n",
    "#price S\n",
    "s = np.array([1.5, 1.5, 0.5])\n",
    "\n",
    "w = s * b\n",
    "print s.shape\n",
    "print '\\n',b.shape\n",
    "print '\\n--------------------'\n",
    "print w.shape\n",
    "s = pd.DataFrame(w)\n",
    "w = pd.DataFrame(w)\n",
    "\n",
    "print w\n",
    "\n",
    "print w.sum(axis=1)\n",
    "\n",
    "w = w.div(w.sum(axis=1), axis=0)\n",
    "\n",
    "print w\n",
    "\n",
    "w = w.shift(1) #shift index by 1, which means skip the last index.\n",
    "print '\\n-----------'\n",
    "print w.ix[0]\n",
    "print s.shape\n",
    "w.ix[0] = 1./ s.shape[1]\n",
    "print w"
   ]
  },
  {
   "cell_type": "markdown",
   "metadata": {},
   "source": [
    "# What  does shift mean in pandas?\n",
    "\n",
    "[possible answer](http://stackoverflow.com/questions/27479800/pandas-rolling-on-a-shifted-dataframe)"
   ]
  },
  {
   "cell_type": "code",
   "execution_count": null,
   "metadata": {
    "collapsed": true
   },
   "outputs": [],
   "source": []
  }
 ],
 "metadata": {
  "kernelspec": {
   "display_name": "Python 2",
   "language": "python",
   "name": "python2"
  },
  "language_info": {
   "codemirror_mode": {
    "name": "ipython",
    "version": 2
   },
   "file_extension": ".py",
   "mimetype": "text/x-python",
   "name": "python",
   "nbconvert_exporter": "python",
   "pygments_lexer": "ipython2",
   "version": "2.7.12"
  }
 },
 "nbformat": 4,
 "nbformat_minor": 2
}
