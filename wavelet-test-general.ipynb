{
 "cells": [
  {
   "cell_type": "code",
   "execution_count": null,
   "metadata": {},
   "outputs": [],
   "source": [
    "from __future__ import absolute_import, division, print_function\n",
    "\n",
    "import tensorflow as tf\n",
    "print(tf.__version__)\n",
    "\n",
    "tf.keras.backend.clear_session()  # For easy reset of notebook state.\n",
    "\n",
    "import pandas as pd\n",
    "import numpy as np\n",
    "import xarray as xr"
   ]
  },
  {
   "cell_type": "code",
   "execution_count": null,
   "metadata": {},
   "outputs": [],
   "source": [
    "import os\n",
    "\n",
    "df = {}\n",
    "file_path = os.path.join(os.getcwd(), \"forex-data\")\n",
    "for f in os.listdir(file_path):\n",
    "    if f.startswith('USD'):\n",
    "        df[f] = pd.read_csv(os.path.join(file_path, f))\n",
    "        df[f]['openTime'] = pd.to_datetime(df[f].Date, unit='ns')\n",
    "        df[f]['openTime'] = pd.DatetimeIndex(df[f]['openTime'] ).round('S')\n",
    "        df[f].index = df[f]['openTime']\n",
    "        df[f].drop(columns=['openTime', 'Date'])\n",
    "        df[f] = xr.DataArray(df[f], dims=['openTime', 'feature']) \n",
    "        \n",
    "chart = xr.Dataset(df).to_array(dim='asset')\n",
    "chart = chart.transpose(\"feature\", \"asset\", \"openTime\")\n",
    "\n",
    "print(chart.shape)\n",
    "print(chart)"
   ]
  },
  {
   "cell_type": "code",
   "execution_count": null,
   "metadata": {},
   "outputs": [],
   "source": [
    "from pgportfolio.learn.nnagent import NNAgent\n",
    "from pgportfolio.tools.configprocess import load_config\n",
    "\n",
    "datetime = pd.date_range(start=\"01/01/2015\", end=\"30/12/2016\", freq=\"10min\")"
   ]
  },
  {
   "cell_type": "code",
   "execution_count": null,
   "metadata": {},
   "outputs": [],
   "source": [
    "from pgportfolio.learn.nnagent import NNAgent\n",
    "from pgportfolio.tools.configprocess import load_config\n",
    "from datetime import datetime, timedelta\n",
    "\n",
    "\n",
    "def assets2symbols(assets):\n",
    "    return [asset+\"/USD\" for asset in assets]\n",
    "\n",
    "def backtest(start, end, agent_index = 1,location = \"train_package/\"):\n",
    "\n",
    "    config = load_config(agent_index)\n",
    "    assets = [\"CHF\", \"JPY\", \"CAD\", \"DKK\"]\n",
    "    agent = NNAgent(config, location+str(agent_index)+\"/netfile\")\n",
    "\n",
    "    commission_rate = config[\"trading\"][\"trading_consumption\"]\n",
    "\n",
    "    window_size = config[\"input\"][\"window_size\"]\n",
    "    global_steps = len(global_data[\"openTime\"]) - window_size\n",
    "    last_w = np.zeros(len(assets)+1)\n",
    "    last_w[0] = 1\n",
    "    portfolio_changes_history = {}\n",
    "    portfolio_weights_history = {}\n",
    "    print(global_data)\n",
    "    for i in range(global_steps):\n",
    "        input_window = global_data[:,:,i:i+window_size]\n",
    "        y = global_data[0, :, i+1]/global_data[0, :, i]\n",
    "        datetime = input_window[\"openTime\"][-1].values\n",
    "        weights = agent.decide_by_history(input_window.values, last_w)\n",
    "        transaction_cost = np.sum(np.abs(weights-last_w))*commission_rate\n",
    "        last_w = weights\n",
    "        portfolio_change = np.dot(y, weights[1:])*(1-transaction_cost)\n",
    "        portfolio_changes_history[datetime] = portfolio_change\n",
    "        portfolio_weights_history[datetime] = weights\n",
    "    return {\"portfolio_changes_history\": pd.Series(portfolio_changes_history),\n",
    "            \"portfolio_weights_history\": pd.DataFrame(portfolio_weights_history),\n",
    "            \"global_data\": global_data}\n",
    "\n",
    "\n",
    "results = backtest(\"2015-01-01 00:10:00\", \"2016-01-01 01:00:00\")\n",
    "print(results)"
   ]
  },
  {
   "cell_type": "code",
   "execution_count": null,
   "metadata": {},
   "outputs": [],
   "source": []
  }
 ],
 "metadata": {
  "kernelspec": {
   "display_name": "Python 3",
   "language": "python",
   "name": "python3"
  },
  "language_info": {
   "codemirror_mode": {
    "name": "ipython",
    "version": 3
   },
   "file_extension": ".py",
   "mimetype": "text/x-python",
   "name": "python",
   "nbconvert_exporter": "python",
   "pygments_lexer": "ipython3",
   "version": "3.5.4"
  }
 },
 "nbformat": 4,
 "nbformat_minor": 2
}
